{
 "cells": [
  {
   "cell_type": "code",
   "execution_count": 2,
   "id": "358a1da0",
   "metadata": {},
   "outputs": [],
   "source": [
    "import pandas as pd\n",
    "import numpy as np\n",
    "import os\n",
    "from sqlalchemy import create_engine\n",
    "import logging\n",
    "import time "
   ]
  },
  {
   "cell_type": "code",
   "execution_count": 3,
   "id": "6953fc8f",
   "metadata": {},
   "outputs": [],
   "source": [
    "os.makedirs(\"logs\", exist_ok=True)\n",
    "logging.basicConfig(\n",
    "    level=logging.DEBUG,\n",
    "    filename=\"logs/ingestion_db.log\", \n",
    "    format='%(asctime)s - %(levelname)s - %(message)s',\n",
    "    filemode='a' \n",
    ")"
   ]
  },
  {
   "cell_type": "code",
   "execution_count": 4,
   "id": "4ca934b3",
   "metadata": {},
   "outputs": [],
   "source": [
    "\n",
    "\n",
    "engine = create_engine('sqlite:///mydatabase.db')"
   ]
  },
  {
   "cell_type": "code",
   "execution_count": 5,
   "id": "59cf2dae",
   "metadata": {},
   "outputs": [],
   "source": [
    "def ingest_db(df,table_name,engine):\n",
    "    df.to_sql(table_name,con=engine,if_exists=\"replace\",index=False ,chunksize=500)"
   ]
  },
  {
   "cell_type": "code",
   "execution_count": 6,
   "id": "d2181cab",
   "metadata": {},
   "outputs": [
    {
     "name": "stdout",
     "output_type": "stream",
     "text": [
      "begin_inventory.csv\n",
      "(206529, 9)\n",
      "end_inventory.csv\n",
      "(224489, 9)\n",
      "purchases.csv\n",
      "(2372474, 16)\n",
      "purchase_prices.csv\n",
      "(12261, 9)\n",
      "sales.csv\n",
      "(12825363, 14)\n",
      "vendor_invoice.csv\n",
      "(5543, 10)\n"
     ]
    }
   ],
   "source": [
    "def load_data():\n",
    " start=time.time()  \n",
    " folder = r\"D:\\Download\\New folder (2)\\data\"\n",
    " for file in os.listdir(folder):\n",
    "    if  file.endswith(\".csv\"): \n",
    "        file_path = os.path.join(folder, file)\n",
    "        df = pd.read_csv(file_path)\n",
    "        logging.info(f\"file {file} has been ingested in db\")\n",
    "        print(file)\n",
    "        print(df.shape)\n",
    "        ingest_db(df,file[:-4],engine)\n",
    " end=time.time()\n",
    " totaltime=(end-start)\n",
    " logging.info(f\"total time taken to ingest data is {totaltime}\")    \n",
    " logging.info(f\"total number of files ingested is {len(os.listdir(folder))}\")   \n",
    "if __name__ == \"__main__\":\n",
    "    load_data()   "
   ]
  },
  {
   "cell_type": "code",
   "execution_count": null,
   "id": "5d9710ac",
   "metadata": {},
   "outputs": [],
   "source": []
  }
 ],
 "metadata": {
  "kernelspec": {
   "display_name": ".venv",
   "language": "python",
   "name": "python3"
  },
  "language_info": {
   "codemirror_mode": {
    "name": "ipython",
    "version": 3
   },
   "file_extension": ".py",
   "mimetype": "text/x-python",
   "name": "python",
   "nbconvert_exporter": "python",
   "pygments_lexer": "ipython3",
   "version": "3.11.9"
  }
 },
 "nbformat": 4,
 "nbformat_minor": 5
}
